{
 "cells": [
  {
   "cell_type": "markdown",
   "metadata": {},
   "source": [
    "# Time Series I/O Library\n",
    "## Guided Tour"
   ]
  },
  {
   "cell_type": "markdown",
   "metadata": {},
   "source": [
    "The Time Series I/O package provides a basic Time Series model, represented by the **TimeSeries** class. A TimeSeries object simply contains a name, a *dict* of its \"attributes\" (which represents information about the Time Series) and a pandas.Series with (date, value) pairs. Here is an example of creating a TimeSeries:"
   ]
  },
  {
   "cell_type": "code",
   "execution_count": null,
   "metadata": {},
   "outputs": [],
   "source": [
    "import pandas as pd\n",
    "from tsio import TimeSeries\n",
    "\n",
    "attributes = {\n",
    "             \"TYPE\": \"TEST\",\n",
    "             \"CODE\": \"000001\",\n",
    "             \"ISSUE_DATE\": pd.to_datetime(\"2018-01-01\")\n",
    "             }\n",
    "dates = list(map(pd.to_datetime, [\"2018-01-01\", \"2018-02-01\", \"2018-03-01\"]))\n",
    "values = [1, 2, 3]\n",
    "dated_values = pd.Series(index=dates, data=values)\n",
    "\n",
    "timeseries = TimeSeries(\"Example Time Series\")\n",
    "timeseries.update_attributes(attributes)\n",
    "timeseries.update_values(dated_values)"
   ]
  },
  {
   "cell_type": "code",
   "execution_count": null,
   "metadata": {},
   "outputs": [],
   "source": [
    "# Check content of the Time Series.\n",
    "print(timeseries.ts_name)\n",
    "print(\"\\n\" + \"*\"*20 + \"\\n\")\n",
    "print(timeseries.ts_attributes)\n",
    "print(\"\\n\" + \"*\"*20 + \"\\n\")\n",
    "print(timeseries.ts_values)\n",
    "print(\"\\n\" + \"*\"*20 + \"\\n\")\n",
    "\n",
    "# When the whole Time Series is printed, it shows all of its content.\n",
    "print(timeseries)"
   ]
  },
  {
   "cell_type": "markdown",
   "metadata": {},
   "source": [
    "There is really not much else to talk about the TimeSeries object, it is just a data-holder. The objective of this library is to implement easy reading/writing of TimeSeries from/into a MongoDB collection. To set up a local MongoDB instance, make sure you have mongodb installed (```pacman -S mongodb``` in Arch Linux).\n",
    "\n",
    "To start a mongodb instance:\n",
    "```mongod --dbpath <path/to/db_directory>```\n",
    "\n",
    "Then we make use of the **DBIO** class:"
   ]
  },
  {
   "cell_type": "code",
   "execution_count": null,
   "metadata": {},
   "outputs": [],
   "source": [
    "from tsio import DBIO\n",
    "\n",
    "db = DBIO(host_address=\"localhost\", db_name=\"test\", collection_name=\"test\")\n",
    "\n",
    "# Writing to the database.\n",
    "db.write(timeseries)"
   ]
  },
  {
   "cell_type": "code",
   "execution_count": null,
   "metadata": {},
   "outputs": [],
   "source": [
    "# Selecting from database based on attributes.\n",
    "ts_selection = db.select(ISSUE_DATE=pd.to_datetime(\"2018-01-01\"))\n",
    "print(ts_selection)\n",
    "print(\"Type of the returned object: \" + str(type(ts_selection)))"
   ]
  },
  {
   "cell_type": "markdown",
   "metadata": {},
   "source": [
    "The 'select' operation above actually returns a TimeSeriesCollection object. This object is basically an\n",
    "OrderedDict of TimeSeries objects, indexed by names (the ts_name attribute of each TimeSeries).\n",
    "\n",
    "**Note**: This means that TimeSeries with the same ts_name should not be added to the same TimeSeriesCollection,\n",
    "unless you want to replace the existent TimeSeries."
   ]
  },
  {
   "cell_type": "code",
   "execution_count": null,
   "metadata": {},
   "outputs": [],
   "source": [
    "# A TimeSeriesCollection behaves like an iterable of TimeSeries:\n",
    "for ts in ts_selection:\n",
    "    print(ts)"
   ]
  },
  {
   "cell_type": "markdown",
   "metadata": {},
   "source": [
    "### Note:\n",
    "\n",
    "In the result above, you can see that the \"select\" method returns a time series collection, but the time series\n",
    "contained in it are empty. It retrieves the names of the time series, but not their content. To do this, we must\n",
    "**read** the time series collection."
   ]
  },
  {
   "cell_type": "code",
   "execution_count": null,
   "metadata": {},
   "outputs": [],
   "source": [
    "# Reading the selection.\n",
    "db.read(ts_selection)\n",
    "for ts in ts_selection:\n",
    "    print(ts)"
   ]
  },
  {
   "cell_type": "markdown",
   "metadata": {},
   "source": [
    "### Note:\n",
    "\n",
    "If you run the above cell twice, you may notice that a \"LAST_USE\" attribute was added to the time series. This is by default, because some of the plugins we have implemented rely on this. The \"LAST_USE\" attribute represents the last date (GMT) when the time series was read or written. Maybe in the future we may add a kill-switch for this behaviour."
   ]
  },
  {
   "cell_type": "code",
   "execution_count": null,
   "metadata": {},
   "outputs": [],
   "source": [
    "# Now let us add some other time series to our database.\n",
    "timeseries2 = TimeSeries(\"Second Example Time Series\")\n",
    "timeseries2.update_attributes(\n",
    "    {\"TYPE\": \"TEST\",\n",
    "     \"CODE\": \"000002\"\n",
    "    }\n",
    ")\n",
    "timeseries2.update_values(\n",
    "    pd.Series(index=dates,  # The dates we used when defining the first timeseries.\n",
    "             data=[10, 11, 12])\n",
    ")\n",
    "\n",
    "timeseries3 = TimeSeries(\"Third Example Time Series\")\n",
    "timeseries3.update_attributes(\n",
    "    {\"TYPE\": \"DIFFERENT_TYPE\",  # Here we use a different type, to test the 'select' method below.\n",
    "     \"CODE\": \"000003\"\n",
    "    }\n",
    ")\n",
    "timeseries3.update_values(\n",
    "    pd.Series(index=dates,  # The dates we used when defining the first timeseries.\n",
    "             data=[20, 21, 22])\n",
    ")\n",
    "\n",
    "db.write([timeseries2, timeseries3])"
   ]
  },
  {
   "cell_type": "code",
   "execution_count": null,
   "metadata": {},
   "outputs": [],
   "source": [
    "# Selecting all time series in the database.\n",
    "entire_db = db.select()\n",
    "print(entire_db)"
   ]
  },
  {
   "cell_type": "code",
   "execution_count": null,
   "metadata": {},
   "outputs": [],
   "source": [
    "# Again, all retrieved time series are empty. We need to read them if we want their content.\n",
    "for ts in entire_db:\n",
    "    print(ts)"
   ]
  },
  {
   "cell_type": "code",
   "execution_count": null,
   "metadata": {},
   "outputs": [],
   "source": [
    "# Reading the time series.\n",
    "db.read(entire_db)\n",
    "for ts in entire_db:\n",
    "    print(ts)"
   ]
  },
  {
   "cell_type": "code",
   "execution_count": null,
   "metadata": {},
   "outputs": [],
   "source": [
    "# We can also select time series by their attributes.\n",
    "selection = db.select(TYPE='TEST')\n",
    "# Notice that we selected only the time series with the \"TYPE\" attribute equal to \"TEST\".\n",
    "db.read(selection)\n",
    "for ts in selection:\n",
    "    print(ts)"
   ]
  },
  {
   "cell_type": "code",
   "execution_count": null,
   "metadata": {},
   "outputs": [],
   "source": [
    "# We can also select based on multiple attribute values!\n",
    "selection = db.select(TYPE=[\"TEST\", \"DIFFERENT_TYPE\"])\n",
    "db.read(selection)\n",
    "for ts in selection:\n",
    "    print(ts)"
   ]
  },
  {
   "cell_type": "markdown",
   "metadata": {},
   "source": [
    "**Note:** Now you may be asking yourself if it is possible to query only a part of the TimeSeries data (e.g.: only (date, value) pairs from 2018-02-01 on, or specifying the granularity of the time series (date, value) pairs, like asking only for yearly data). Unfortunately, for now it is not possible. This library was designed for use with daily data, with local databases, and reading the whole time series each time has imposed no significant overhead for our use cases. However, we do have some internal workarounds for huge datasets (intraday, milisecond data) which we intend to use for extending this library in the near future. You can expect being able to make more sophisticated queries with the **read** method above, keeping backward compatibility."
   ]
  },
  {
   "cell_type": "markdown",
   "metadata": {},
   "source": [
    "## Generalized Reading Interface\n",
    "\n",
    "Another feature of this library is the *Generalized Reading Interface* (**GenIO**). The **GenIO** class extends the **DBIO** class with external reading capabilities. Imagine a reading interface which can read from our database, but can also read from arbitrary data sources.\n",
    "\n",
    "As an example, allow us to step into the financial word. We will build a reading interface that reads stock prices from our database and, if desired, increments our price set with data from Yahoo Finance.\n",
    "\n",
    "To do this, we need to implement a YahooReader class that will be passed as an argument to our **GenIO** class.\n",
    "\n",
    "We will need the the **pandas-datareader** package."
   ]
  },
  {
   "cell_type": "code",
   "execution_count": null,
   "metadata": {},
   "outputs": [],
   "source": [
    "import pandas_datareader as pdr\n",
    "from datetime import datetime\n",
    "\n",
    "class YahooReader:\n",
    "    # The time series that will be read with this class will have a \"SOURCE\" attribute with the value \"YAHOO\"\n",
    "    # and a \"TICKER\" attribute with the value of its corresponding Yahoo Finance ticker.\n",
    "    def __init__(self, dbio):\n",
    "        # We give a dbio instance for the YahooReader so it can read first from the database, and use Yahoo only\n",
    "        # to complete missing (recent) data.\n",
    "        self.dbio = dbio\n",
    "    \n",
    "    def is_member(self, ts):\n",
    "        if ts.get_attribute(\"SOURCE\") == \"YAHOO\":\n",
    "            return True\n",
    "        return False\n",
    "    \n",
    "    def read_attributes(self, ts_collection, **kwargs):\n",
    "        # Let's skip reading attributes, for now.\n",
    "        pass\n",
    "    \n",
    "    def read_values(self, ts_collection, **kwargs):\n",
    "        # You can really configure your behaviour here. Before reading from the external source, we read from the\n",
    "        # database. Then you can configure how you want to complete the database data with the external source. \n",
    "        # In this example, we take the lower bound of last quote dates for all the required\n",
    "        # time series and use it as the start_date for the Yahoo query.\n",
    "        self.dbio.read(ts_collection)\n",
    "        for ts in ts_collection:\n",
    "            print(ts)\n",
    "        tickers = ts_collection.get_attributes(\"TICKER\")\n",
    "        try:\n",
    "            last_quote_date_lower_bound = min([ts.ts_values.last_valid_index() for ts in ts_collection])\n",
    "        except TypeError:\n",
    "            last_quote_date_lower_bound = datetime(2018, 1, 1)\n",
    "        data = pdr.get_data_yahoo(symbols=tickers, start=last_quote_date_lower_bound, end=datetime.today())\n",
    "        for ts in ts_collection:\n",
    "            ts.update_values(data[\"Adj Close\"][ts.get_attribute(\"TICKER\")])\n",
    "            \n",
    "        \n",
    "    def read(self, ts_collection, **kwargs):\n",
    "        self.read_values(ts_collection)\n",
    "        \n",
    "\n",
    "# Now we will instantiate a GenIO object using the YahooReader class above.\n",
    "from tsio import GenIO\n",
    "yahoo_reader = YahooReader(dbio=db)  # Give our dbio instance to the YahooReader class.\n",
    "genio = GenIO(host_address='localhost', db_name='test', collection_name='test', external_interfaces=[yahoo_reader])\n",
    "\n",
    "\n",
    "# Almost there. Let's add some stocks to our database.\n",
    "shopify = TimeSeries(\"SHOPIFY\")\n",
    "shopify.update_attributes({\"TYPE\": \"STOCK\", \"SOURCE\": \"YAHOO\", \"TICKER\": \"SHOP\"})\n",
    "\n",
    "baozun = TimeSeries(\"BAOZUN\")\n",
    "baozun.update_attributes({\"TYPE\": \"STOCK\", \"SOURCE\": \"YAHOO\", \"TICKER\": \"BZUN\"})\n",
    "\n",
    "amazon = TimeSeries(\"AMAZON\")\n",
    "amazon.update_attributes({\"TYPE\": \"STOCK\", \"SOURCE\": \"YAHOO\", \"TICKER\": \"AMZN\"})\n",
    "\n",
    "genio.write([shopify, baozun, amazon])"
   ]
  },
  {
   "cell_type": "code",
   "execution_count": null,
   "metadata": {},
   "outputs": [],
   "source": [
    "# Now let's read from the database + Yahoo.\n",
    "# First we select our stocks.\n",
    "\n",
    "stocks = genio.select(TYPE=\"STOCK\")\n",
    "genio.read(stocks)\n",
    "for stock in stocks:\n",
    "    print(stock)\n",
    "    \n",
    "# Let's write the new data to the database.\n",
    "genio.write(stocks)"
   ]
  },
  {
   "cell_type": "code",
   "execution_count": null,
   "metadata": {},
   "outputs": [],
   "source": [
    "# The next time you read from the database, the data will be there.\n",
    "# Let's use the pure database reader, dbio, again.\n",
    "\n",
    "stocks = db.select(TYPE=\"STOCK\")\n",
    "db.read(stocks)\n",
    "for stock in stocks:\n",
    "    print(stock)"
   ]
  },
  {
   "cell_type": "code",
   "execution_count": null,
   "metadata": {},
   "outputs": [],
   "source": [
    "# Now you can do whatever you want with your time series.\n",
    "# As a very simple example, you can plot their performances.\n",
    "# Note: We need the matplotlib package here.\n",
    "\n",
    "import matplotlib.pyplot as plt\n",
    "from matplotlib.ticker import FuncFormatter\n",
    "\n",
    "for stock in stocks:\n",
    "    plt.plot(stock.ts_values.index, stock.ts_values.values/stock.ts_values.values[0] - 1, label=stock.ts_name)\n",
    "\n",
    "plt.gca().yaxis.set_major_formatter(FuncFormatter(lambda y, _: '{:.0%}'.format(y))) \n",
    "plt.gcf().set_size_inches(15, 7.5)\n",
    "plt.legend()\n",
    "plt.show()"
   ]
  },
  {
   "cell_type": "markdown",
   "metadata": {},
   "source": [
    "### Check the project's [Documentation](https://lanxdev.github.io/tsio/index) for more details."
   ]
  }
 ],
 "metadata": {
  "kernelspec": {
   "display_name": "Python 3",
   "language": "python",
   "name": "python3"
  },
  "language_info": {
   "codemirror_mode": {
    "name": "ipython",
    "version": 3
   },
   "file_extension": ".py",
   "mimetype": "text/x-python",
   "name": "python",
   "nbconvert_exporter": "python",
   "pygments_lexer": "ipython3",
   "version": "3.7.0"
  }
 },
 "nbformat": 4,
 "nbformat_minor": 2
}
